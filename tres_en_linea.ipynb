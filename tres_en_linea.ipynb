{
 "cells": [
  {
   "cell_type": "markdown",
   "metadata": {},
   "source": [
    "Implementacion del juego Tres en Linea"
   ]
  },
  {
   "cell_type": "code",
   "execution_count": 36,
   "metadata": {},
   "outputs": [],
   "source": [
    "import numpy as np\n",
    "\n",
    "class Board():\n",
    "    #inicializo\n",
    "    def __init__(self):\n",
    "        self.state = np.zeros((3,3))\n",
    "\n",
    "    # valido que movimientos puedo hacer\n",
    "    def valid_moves(self):\n",
    "        return [(i, j) for j in range(3) for i in range(3) if self.state[i, j] == 0] # si el valor es 0, puedo usarlo\n",
    "    \n",
    "    # actualizo el tablero en funcion de la jugada\n",
    "    def update(self, symbol, row, col):\n",
    "        if self.state[row, col] == 0:\n",
    "            self.state[row, col] = symbol\n",
    "        else:\n",
    "            raise ValueError(\"Invalid move\")\n",
    "        \n",
    "    # valido si el juego termino\n",
    "    def is_game_over(self):\n",
    "        # comprobar filas y columnas\n",
    "        if (self.state.sum(axis=0) == 3).any() or (self.state.sum(axis=1) == 3).any():\n",
    "            return 1 # gano el jugador\n",
    "        if (self.state.sum(axis=0) == -3).any() or (self.state.sum(axis=1) == -3).any():\n",
    "            return -1 # gano la maquina\n",
    "        # comprobar diagonales\n",
    "        diag_sums = [\n",
    "            sum([self.state[i, i] for i in range(3)]),\n",
    "            sum([self.state[i, 3 - i - 1] for i in range(3)]),\n",
    "        ]\n",
    "        if diag_sums[0] == 3 or diag_sums[1] == 3:\n",
    "            return 1\n",
    "        if diag_sums[0] == -3 or diag_sums[1] == -3:\n",
    "            return -1\n",
    "        # comprobar si hay empate\n",
    "        if self.valid_moves() == []:\n",
    "            return 0\n",
    "        return None\n",
    "    \n",
    "    # reiniciar el juego\n",
    "    def reset(self):\n",
    "        self.state = np.zeros((3,3))"
   ]
  },
  {
   "cell_type": "markdown",
   "metadata": {},
   "source": [
    "Se encarga de llevar a cabo las partidas del juego Tres en Linea"
   ]
  },
  {
   "cell_type": "code",
   "execution_count": 51,
   "metadata": {},
   "outputs": [],
   "source": [
    "#Se encarga de llevar a cabo las partidas del juego Tres en Linea\n",
    "from tqdm import tqdm \n",
    "\n",
    "class Game():\n",
    "    #inicializo\n",
    "    def __init__(self, player1, player2):\n",
    "        player1.symbol = 1\n",
    "        player2.symbol = -1\n",
    "        self.board = Board()\n",
    "        self.players = [player1, player2]\n",
    "        \n",
    "    # juegar por su cuenta\n",
    "    def selfplay(self, rounds=100):\n",
    "        wins = [0,0] # iniciamos con marcador en 0\n",
    "        for i in tqdm(range(1, rounds + 1)):\n",
    "            self.board.reset() # despues de la partida reinicio el tablero\n",
    "            for player in self.players:\n",
    "                player.reset() # reinicio el jugador\n",
    "            game_over = False\n",
    "            while not game_over: # el juego NO temrino, hago un jugada\n",
    "                for player in self.players:\n",
    "                    action = player.move(self.board) # tomo una accion\n",
    "                    self.board.update(player.symbol, action[0], action[1]) \n",
    "                    for player in self.players:\n",
    "                        player.update(self.board) # guardo el estado\n",
    "                    if self.board.is_game_over() is not None:\n",
    "                        game_over = True\n",
    "                        break\n",
    "            self.reward() # actualizo el reward / recompenza\n",
    "            for ix, player in enumerate(self.players):\n",
    "                if self.board.is_game_over() == player.symbol: # si gano el jugador 1\n",
    "                    wins[ix] += 1 # sumo 1 al marcador\n",
    "        return wins\n",
    "    \n",
    "    # actualizo el reward\n",
    "    def reward(self):\n",
    "        result = self.board.is_game_over()\n",
    "        if result == 1: # gano el jugador1\n",
    "            self.players[0].reward(1) # actualizo la reward / recompenza\n",
    "            self.players[1].reward(0) # actualizo la recompenza / que perdio\n",
    "        elif result == -1: # gano el jugador2\n",
    "            self.players[0].reward(0)\n",
    "            self.players[1].reward(1)\n",
    "        else: # empate\n",
    "            self.players[0].reward(0.5) # divido la recompenza\n",
    "            self.players[1].reward(0.5)"
   ]
  },
  {
   "cell_type": "markdown",
   "metadata": {},
   "source": [
    "Creo el agente que va a aprender a jugar al Tres en Linea"
   ]
  },
  {
   "cell_type": "code",
   "execution_count": 55,
   "metadata": {},
   "outputs": [],
   "source": [
    "#Creo el agente que va a aprender a jugar al Tres en Linea\n",
    "class Agent():\n",
    "    #inicializo\n",
    "    def __init__(self, prob_exp=0.5, alpha=0.5, symbol=1):\n",
    "        self.value_function = {} # tabla con pares estado -> valor\n",
    "        self.alpha = alpha         # learning rate\n",
    "        self.positions = []       # guardamos todas las posiciones de la partida\n",
    "        self.prob_exp = prob_exp   # probabilidad de explorar\n",
    "        \n",
    "    # reinicio el jugador\n",
    "    def reset(self):\n",
    "        self.positions = []\n",
    "        \n",
    "    # actualizo el estado\n",
    "    def update(self, board):\n",
    "        self.positions.append(str(board.state.reshape(3*3)))\n",
    "        \n",
    "    # tomo una accion\n",
    "    def move(self, board, explore=True):\n",
    "        valid_moves = board.valid_moves()\n",
    "        #exploracion\n",
    "        if explore and np.random.uniform(0,1) < self.prob_exp:\n",
    "            # tomo una accion aleatoria\n",
    "            idx = np.random.choice(len(valid_moves)) # elijo una accion al azar dentro de las opciones validas\n",
    "            return valid_moves[idx]\n",
    "        \n",
    "        # vamos a la posicion con mayor valor\n",
    "        max_value = -1000\n",
    "        for row, col in valid_moves:\n",
    "            next_board = board.state.copy()\n",
    "            next_board[row, col] = self.symbol\n",
    "            next_state = str(next_board.reshape(3*3))\n",
    "            value = 0 if self.value_function.get(next_state) is None else self.value_function.get(next_state)\n",
    "            if value >= max_value:\n",
    "                max_value = value\n",
    "                best_row, best_col = row, col\n",
    "        return best_row, best_col\n",
    "    \n",
    "    # actualizo la recompenza\n",
    "    def reward(self, reward):\n",
    "        # al final de la partida actualizo el valor de cada estado\n",
    "        for pos in reversed(self.positions):\n",
    "            if self.value_function.get(pos) is None: # si la posicion no esta en la tabla de posiciones jugadas = 0\n",
    "                self.value_function[pos] = 0\n",
    "            self.value_function[pos] += self.alpha * (reward - self.value_function[pos])\n",
    "            reward = self.value_function[pos]\n"
   ]
  },
  {
   "cell_type": "markdown",
   "metadata": {},
   "source": [
    "Creo una instancia de entrenamiento para el agente"
   ]
  },
  {
   "cell_type": "code",
   "execution_count": 56,
   "metadata": {},
   "outputs": [
    {
     "name": "stderr",
     "output_type": "stream",
     "text": [
      "100%|██████████| 10000/10000 [02:07<00:00, 78.54it/s]\n"
     ]
    },
    {
     "data": {
      "text/plain": [
       "[5997, 2315]"
      ]
     },
     "execution_count": 56,
     "metadata": {},
     "output_type": "execute_result"
    }
   ],
   "source": [
    "#Creo una instancia de entrenamiento para el agente\n",
    "\n",
    "agent1 = Agent(alpha=0.5)\n",
    "agent2 = Agent(alpha=0.5)\n",
    "\n",
    "game = Game(agent1, agent2)\n",
    "game.selfplay(rounds=10000)"
   ]
  },
  {
   "cell_type": "markdown",
   "metadata": {},
   "source": [
    "Tabla para ver las jugadas del agente"
   ]
  },
  {
   "cell_type": "code",
   "execution_count": 60,
   "metadata": {},
   "outputs": [
    {
     "data": {
      "text/html": [
       "<div>\n",
       "<style scoped>\n",
       "    .dataframe tbody tr th:only-of-type {\n",
       "        vertical-align: middle;\n",
       "    }\n",
       "\n",
       "    .dataframe tbody tr th {\n",
       "        vertical-align: top;\n",
       "    }\n",
       "\n",
       "    .dataframe thead th {\n",
       "        text-align: right;\n",
       "    }\n",
       "</style>\n",
       "<table border=\"1\" class=\"dataframe\">\n",
       "  <thead>\n",
       "    <tr style=\"text-align: right;\">\n",
       "      <th></th>\n",
       "      <th>Estado</th>\n",
       "      <th>Valor</th>\n",
       "    </tr>\n",
       "  </thead>\n",
       "  <tbody>\n",
       "    <tr>\n",
       "      <th>0</th>\n",
       "      <td>[ 0.  0. -1.  1.  1.  1.  0.  0. -1.]</td>\n",
       "      <td>1.0</td>\n",
       "    </tr>\n",
       "    <tr>\n",
       "      <th>1</th>\n",
       "      <td>[ 0.  0.  0.  1.  1.  1. -1.  0. -1.]</td>\n",
       "      <td>1.0</td>\n",
       "    </tr>\n",
       "    <tr>\n",
       "      <th>2</th>\n",
       "      <td>[ 1.  1. -1. -1.  1.  1. -1.  1. -1.]</td>\n",
       "      <td>1.0</td>\n",
       "    </tr>\n",
       "    <tr>\n",
       "      <th>3</th>\n",
       "      <td>[-1.  0. -1.  1.  1.  1.  0.  0.  0.]</td>\n",
       "      <td>1.0</td>\n",
       "    </tr>\n",
       "    <tr>\n",
       "      <th>4</th>\n",
       "      <td>[ 0.  0. -1.  1.  1.  1. -1.  0.  0.]</td>\n",
       "      <td>1.0</td>\n",
       "    </tr>\n",
       "    <tr>\n",
       "      <th>...</th>\n",
       "      <td>...</td>\n",
       "      <td>...</td>\n",
       "    </tr>\n",
       "    <tr>\n",
       "      <th>4663</th>\n",
       "      <td>[ 1. -1.  1.  0. -1.  0.  0. -1.  1.]</td>\n",
       "      <td>0.0</td>\n",
       "    </tr>\n",
       "    <tr>\n",
       "      <th>4664</th>\n",
       "      <td>[ 1.  0. -1. -1.  0.  0. -1.  1.  1.]</td>\n",
       "      <td>0.0</td>\n",
       "    </tr>\n",
       "    <tr>\n",
       "      <th>4665</th>\n",
       "      <td>[ 1.  1. -1.  1. -1.  0. -1. -1.  1.]</td>\n",
       "      <td>0.0</td>\n",
       "    </tr>\n",
       "    <tr>\n",
       "      <th>4666</th>\n",
       "      <td>[ 1.  1. -1.  1. -1.  0.  0. -1.  1.]</td>\n",
       "      <td>0.0</td>\n",
       "    </tr>\n",
       "    <tr>\n",
       "      <th>4667</th>\n",
       "      <td>[ 1.  0.  0. -1.  0. -1.  1.  0.  1.]</td>\n",
       "      <td>0.0</td>\n",
       "    </tr>\n",
       "  </tbody>\n",
       "</table>\n",
       "<p>4668 rows × 2 columns</p>\n",
       "</div>"
      ],
      "text/plain": [
       "                                     Estado  Valor\n",
       "0     [ 0.  0. -1.  1.  1.  1.  0.  0. -1.]    1.0\n",
       "1     [ 0.  0.  0.  1.  1.  1. -1.  0. -1.]    1.0\n",
       "2     [ 1.  1. -1. -1.  1.  1. -1.  1. -1.]    1.0\n",
       "3     [-1.  0. -1.  1.  1.  1.  0.  0.  0.]    1.0\n",
       "4     [ 0.  0. -1.  1.  1.  1. -1.  0.  0.]    1.0\n",
       "...                                     ...    ...\n",
       "4663  [ 1. -1.  1.  0. -1.  0.  0. -1.  1.]    0.0\n",
       "4664  [ 1.  0. -1. -1.  0.  0. -1.  1.  1.]    0.0\n",
       "4665  [ 1.  1. -1.  1. -1.  0. -1. -1.  1.]    0.0\n",
       "4666  [ 1.  1. -1.  1. -1.  0.  0. -1.  1.]    0.0\n",
       "4667  [ 1.  0.  0. -1.  0. -1.  1.  0.  1.]    0.0\n",
       "\n",
       "[4668 rows x 2 columns]"
      ]
     },
     "execution_count": 60,
     "metadata": {},
     "output_type": "execute_result"
    }
   ],
   "source": [
    "# Tabla con pandas para ver las jugadas del agente\n",
    "import pandas as pd\n",
    "\n",
    "fun_value = sorted(agent1.value_function.items(), key=lambda x: x[1], reverse=True)\n",
    "tabla = pd.DataFrame(fun_value, columns=[\"Estado\", \"Valor\"])\n",
    "\n",
    "tabla"
   ]
  }
 ],
 "metadata": {
  "kernelspec": {
   "display_name": "RL-TrenEnLinea",
   "language": "python",
   "name": "python3"
  },
  "language_info": {
   "codemirror_mode": {
    "name": "ipython",
    "version": 3
   },
   "file_extension": ".py",
   "mimetype": "text/x-python",
   "name": "python",
   "nbconvert_exporter": "python",
   "pygments_lexer": "ipython3",
   "version": "3.11.5"
  },
  "orig_nbformat": 4
 },
 "nbformat": 4,
 "nbformat_minor": 2
}
